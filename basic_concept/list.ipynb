{
 "cells": [
  {
   "cell_type": "code",
   "execution_count": null,
   "metadata": {},
   "outputs": [],
   "source": [
    "# Merge 2 lists & sort it. Remove the duplicates from the final list.\n",
    "a=[]\n",
    "c=[]\n",
    "n1=int(input(\"Enter number of elements:\"))\n",
    "for i in range(n1):\n",
    "    b=int(input(\"Enter element:\"))\n",
    "    a.append(b)\n",
    "n2=int(input(\"Enter number of elements:\"))\n",
    "for i in range(n2):\n",
    "    d=int(input(\"Enter element:\"))\n",
    "    c.append(d)\n",
    "new=a+c\n",
    "new.sort()\n",
    "new = list(set(new))\n",
    "print(\"Sorted list is:\",new)"
   ]
  },
  {
   "cell_type": "code",
   "execution_count": 2,
   "metadata": {},
   "outputs": [
    {
     "name": "stdout",
     "output_type": "stream",
     "text": [
      "Enter number of elements:5\n",
      "Enter element:1\n",
      "Enter element:21\n",
      "Enter element:222\n",
      "Enter element:3333\n",
      "Enter element:444444\n",
      "['1', '21', '222', '3333', '444444']\n"
     ]
    }
   ],
   "source": [
    "# Sort a list according to the length of the elements.\n",
    "a=[]\n",
    "n=int(input(\"Enter number of elements:\"))\n",
    "for i in range(n):\n",
    "    b=input(\"Enter element:\")\n",
    "    a.append(b)\n",
    "a.sort(key=len)\n",
    "print(a)"
   ]
  },
  {
   "cell_type": "code",
   "execution_count": 3,
   "metadata": {},
   "outputs": [
    {
     "name": "stdout",
     "output_type": "stream",
     "text": [
      "Enter number of elements:5\n",
      "Randomised list is:  [1645, 6533, 5343, 3144, 2505]\n"
     ]
    }
   ],
   "source": [
    "# Generate random numbers from 1 to 10000 and append them to the list.\n",
    "import random\n",
    "a=[]\n",
    "n=int(input(\"Enter number of elements:\"))\n",
    "for j in range(n):\n",
    "    a.append(random.randint(1,10000))\n",
    "print('Randomised list is: ',a)"
   ]
  },
  {
   "cell_type": "code",
   "execution_count": null,
   "metadata": {},
   "outputs": [],
   "source": []
  }
 ],
 "metadata": {
  "kernelspec": {
   "display_name": "Python 3",
   "language": "python",
   "name": "python3"
  },
  "language_info": {
   "codemirror_mode": {
    "name": "ipython",
    "version": 3
   },
   "file_extension": ".py",
   "mimetype": "text/x-python",
   "name": "python",
   "nbconvert_exporter": "python",
   "pygments_lexer": "ipython3",
   "version": "3.6.5"
  }
 },
 "nbformat": 4,
 "nbformat_minor": 2
}
