{
 "cells": [
  {
   "cell_type": "code",
   "execution_count": 1,
   "metadata": {},
   "outputs": [],
   "source": [
    "# min-max normalization & standardisation\n",
    "# Import packages\n",
    "import numpy as np\n",
    "import matplotlib.pyplot as plt\n",
    "import pandas as pd\n",
    "from sklearn import preprocessing"
   ]
  },
  {
   "cell_type": "code",
   "execution_count": 8,
   "metadata": {},
   "outputs": [
    {
     "data": {
      "text/html": [
       "<div>\n",
       "<style scoped>\n",
       "    .dataframe tbody tr th:only-of-type {\n",
       "        vertical-align: middle;\n",
       "    }\n",
       "\n",
       "    .dataframe tbody tr th {\n",
       "        vertical-align: top;\n",
       "    }\n",
       "\n",
       "    .dataframe thead th {\n",
       "        text-align: right;\n",
       "    }\n",
       "</style>\n",
       "<table border=\"1\" class=\"dataframe\">\n",
       "  <thead>\n",
       "    <tr style=\"text-align: right;\">\n",
       "      <th></th>\n",
       "      <th>Country</th>\n",
       "      <th>Age</th>\n",
       "      <th>Salary</th>\n",
       "      <th>Purchased</th>\n",
       "    </tr>\n",
       "  </thead>\n",
       "  <tbody>\n",
       "    <tr>\n",
       "      <th>0</th>\n",
       "      <td>France</td>\n",
       "      <td>44.0</td>\n",
       "      <td>72000.0</td>\n",
       "      <td>No</td>\n",
       "    </tr>\n",
       "    <tr>\n",
       "      <th>1</th>\n",
       "      <td>Spain</td>\n",
       "      <td>27.0</td>\n",
       "      <td>48000.0</td>\n",
       "      <td>Yes</td>\n",
       "    </tr>\n",
       "    <tr>\n",
       "      <th>2</th>\n",
       "      <td>Germany</td>\n",
       "      <td>30.0</td>\n",
       "      <td>54000.0</td>\n",
       "      <td>No</td>\n",
       "    </tr>\n",
       "    <tr>\n",
       "      <th>3</th>\n",
       "      <td>Spain</td>\n",
       "      <td>38.0</td>\n",
       "      <td>61000.0</td>\n",
       "      <td>No</td>\n",
       "    </tr>\n",
       "    <tr>\n",
       "      <th>4</th>\n",
       "      <td>Germany</td>\n",
       "      <td>40.0</td>\n",
       "      <td>NaN</td>\n",
       "      <td>Yes</td>\n",
       "    </tr>\n",
       "    <tr>\n",
       "      <th>5</th>\n",
       "      <td>France</td>\n",
       "      <td>35.0</td>\n",
       "      <td>58000.0</td>\n",
       "      <td>Yes</td>\n",
       "    </tr>\n",
       "    <tr>\n",
       "      <th>6</th>\n",
       "      <td>Spain</td>\n",
       "      <td>NaN</td>\n",
       "      <td>52000.0</td>\n",
       "      <td>No</td>\n",
       "    </tr>\n",
       "    <tr>\n",
       "      <th>7</th>\n",
       "      <td>France</td>\n",
       "      <td>48.0</td>\n",
       "      <td>79000.0</td>\n",
       "      <td>Yes</td>\n",
       "    </tr>\n",
       "    <tr>\n",
       "      <th>8</th>\n",
       "      <td>Germany</td>\n",
       "      <td>50.0</td>\n",
       "      <td>83000.0</td>\n",
       "      <td>No</td>\n",
       "    </tr>\n",
       "    <tr>\n",
       "      <th>9</th>\n",
       "      <td>France</td>\n",
       "      <td>37.0</td>\n",
       "      <td>67000.0</td>\n",
       "      <td>Yes</td>\n",
       "    </tr>\n",
       "  </tbody>\n",
       "</table>\n",
       "</div>"
      ],
      "text/plain": [
       "   Country   Age   Salary Purchased\n",
       "0   France  44.0  72000.0        No\n",
       "1    Spain  27.0  48000.0       Yes\n",
       "2  Germany  30.0  54000.0        No\n",
       "3    Spain  38.0  61000.0        No\n",
       "4  Germany  40.0      NaN       Yes\n",
       "5   France  35.0  58000.0       Yes\n",
       "6    Spain   NaN  52000.0        No\n",
       "7   France  48.0  79000.0       Yes\n",
       "8  Germany  50.0  83000.0        No\n",
       "9   France  37.0  67000.0       Yes"
      ]
     },
     "execution_count": 8,
     "metadata": {},
     "output_type": "execute_result"
    }
   ],
   "source": [
    "ds = pd.read_csv('C:\\\\Users\\sushant\\data_for_missing_values.csv')\n",
    "ds.head(20)"
   ]
  },
  {
   "cell_type": "code",
   "execution_count": 11,
   "metadata": {},
   "outputs": [
    {
     "name": "stdout",
     "output_type": "stream",
     "text": [
      "\n",
      "Original data values : \n",
      " [[4.4e+01 7.2e+04]\n",
      " [2.7e+01 4.8e+04]\n",
      " [3.0e+01 5.4e+04]\n",
      " [3.8e+01 6.1e+04]\n",
      " [4.0e+01 0.0e+00]\n",
      " [3.5e+01 5.8e+04]\n",
      " [0.0e+00 5.2e+04]\n",
      " [4.8e+01 7.9e+04]\n",
      " [5.0e+01 8.3e+04]\n",
      " [3.7e+01 6.7e+04]]\n"
     ]
    }
   ],
   "source": [
    "# Replace NaN with 0.\n",
    "# Age and Salary columns are taken using slicing to handle values with varying magnitude\n",
    "ds.fillna(0, inplace=True)\n",
    "x=ds.iloc[:, 1:3].values\n",
    "print(\"\\nOriginal data values : \\n\", x)"
   ]
  },
  {
   "cell_type": "code",
   "execution_count": 12,
   "metadata": {},
   "outputs": [
    {
     "name": "stdout",
     "output_type": "stream",
     "text": [
      "\n",
      "After min max Scaling : \n",
      " [[0.88       0.86746988]\n",
      " [0.54       0.57831325]\n",
      " [0.6        0.65060241]\n",
      " [0.76       0.73493976]\n",
      " [0.8        0.        ]\n",
      " [0.7        0.69879518]\n",
      " [0.         0.62650602]\n",
      " [0.96       0.95180723]\n",
      " [1.         1.        ]\n",
      " [0.74       0.80722892]]\n"
     ]
    }
   ],
   "source": [
    "# MIN MAX SCALER\n",
    "min_max_scaler = preprocessing.MinMaxScaler(feature_range =(0, 1))\n",
    "# Scaled feature\n",
    "x_after_min_max_scaler = min_max_scaler.fit_transform(x)\n",
    " \n",
    "print(\"\\nAfter min max Scaling : \\n\", x_after_min_max_scaler)"
   ]
  },
  {
   "cell_type": "code",
   "execution_count": 13,
   "metadata": {},
   "outputs": [
    {
     "name": "stdout",
     "output_type": "stream",
     "text": [
      "\n",
      "After Standardisation : \n",
      " [[ 0.67326185  0.66196986]\n",
      " [-0.58448007 -0.42619977]\n",
      " [-0.36252561 -0.15415736]\n",
      " [ 0.22935294  0.16322544]\n",
      " [ 0.37732257 -2.60253904]\n",
      " [ 0.00739848  0.02720424]\n",
      " [-2.58207016 -0.24483817]\n",
      " [ 0.96920112  0.97935267]\n",
      " [ 1.11717076  1.16071427]\n",
      " [ 0.15536812  0.43526785]]\n"
     ]
    }
   ],
   "source": [
    "# Standardisation\n",
    "Standardisation = preprocessing.StandardScaler()\n",
    "# Scaled feature\n",
    "x_after_Standardisation = Standardisation.fit_transform(x)\n",
    " \n",
    "print (\"\\nAfter Standardisation : \\n\", x_after_Standardisation)"
   ]
  }
 ],
 "metadata": {
  "kernelspec": {
   "display_name": "Python 3",
   "language": "python",
   "name": "python3"
  },
  "language_info": {
   "codemirror_mode": {
    "name": "ipython",
    "version": 3
   },
   "file_extension": ".py",
   "mimetype": "text/x-python",
   "name": "python",
   "nbconvert_exporter": "python",
   "pygments_lexer": "ipython3",
   "version": "3.6.5"
  }
 },
 "nbformat": 4,
 "nbformat_minor": 2
}
