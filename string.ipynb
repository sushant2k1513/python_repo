{
 "cells": [
  {
   "cell_type": "code",
   "execution_count": 2,
   "metadata": {},
   "outputs": [
    {
     "name": "stdout",
     "output_type": "stream",
     "text": [
      "Enter string:sushant kumar mishra\n",
      "Number of vowels are:\n",
      "6\n"
     ]
    }
   ],
   "source": [
    "# Count no of vowels in a string.\n",
    "string=input(\"Enter string:\")\n",
    "vowels=0\n",
    "for ii in string:\n",
    "      if(ii=='a' or ii=='e' or ii=='i' or ii=='o' or ii=='u' or ii=='A' or ii=='E' or ii=='I' or ii=='O' or ii=='U'):\n",
    "            vowels=vowels+1\n",
    "print(\"Number of vowels are:\")\n",
    "print(vowels)"
   ]
  },
  {
   "cell_type": "code",
   "execution_count": 4,
   "metadata": {},
   "outputs": [
    {
     "name": "stdout",
     "output_type": "stream",
     "text": [
      "Enter string:AeiousushantMishraBanana\n",
      "Count of the vowels is:\n",
      "12\n"
     ]
    }
   ],
   "source": [
    "# Count no of vowels in a string using set.\n",
    "s=input(\"Enter string:\")\n",
    "count = 0\n",
    "vowels = set(\"aeiou\")\n",
    "vowels1 = set(\"AEIOU\")\n",
    "for letter in s:\n",
    "    if letter in vowels or letter in vowels1:\n",
    "        count += 1\n",
    "print(\"Count of the vowels is:\")\n",
    "print(count)"
   ]
  },
  {
   "cell_type": "code",
   "execution_count": 5,
   "metadata": {},
   "outputs": [
    {
     "name": "stdout",
     "output_type": "stream",
     "text": [
      "Enter first string:sushant\n",
      "Enter second string:kumar\n",
      "The common letters are:\n",
      "a\n",
      "u\n"
     ]
    }
   ],
   "source": [
    "# Common letters in 2 input strings.\n",
    "s1=input(\"Enter first string:\")\n",
    "s2=input(\"Enter second string:\")\n",
    "a=list(set(s1)&set(s2))\n",
    "print(\"The common letters are:\")\n",
    "for i in a:\n",
    "    print(i)"
   ]
  },
  {
   "cell_type": "code",
   "execution_count": null,
   "metadata": {},
   "outputs": [],
   "source": [
    "# Letters which are in 2 input strings.\n",
    "s1=input(\"Enter first string:\")\n",
    "s2=input(\"Enter second string:\")\n",
    "a=list(set(s1)&set(s2))\n",
    "print(\"The common letters are:\")\n",
    "for i in a:\n",
    "    print(i)"
   ]
  },
  {
   "cell_type": "code",
   "execution_count": 8,
   "metadata": {},
   "outputs": [
    {
     "name": "stdout",
     "output_type": "stream",
     "text": [
      "Enter string:123sus122kum123laks\n",
      "The number of digits is:\n",
      "9\n",
      "The number of characters is:\n",
      "10\n"
     ]
    }
   ],
   "source": [
    "# Calculate the number of digits and letters in a string.\n",
    "string=input(\"Enter string:\")\n",
    "count1=0\n",
    "count2=0\n",
    "for i in string:\n",
    "      if(i.isdigit()):\n",
    "        count1=count1+1\n",
    "      elif(i.isalpha()):\n",
    "        count2=count2+1\n",
    "print(\"The number of digits is:\")\n",
    "print(count1)\n",
    "print(\"The number of characters is:\")\n",
    "print(count2)"
   ]
  },
  {
   "cell_type": "code",
   "execution_count": null,
   "metadata": {},
   "outputs": [],
   "source": []
  }
 ],
 "metadata": {
  "kernelspec": {
   "display_name": "Python 3",
   "language": "python",
   "name": "python3"
  },
  "language_info": {
   "codemirror_mode": {
    "name": "ipython",
    "version": 3
   },
   "file_extension": ".py",
   "mimetype": "text/x-python",
   "name": "python",
   "nbconvert_exporter": "python",
   "pygments_lexer": "ipython3",
   "version": "3.6.5"
  }
 },
 "nbformat": 4,
 "nbformat_minor": 2
}
